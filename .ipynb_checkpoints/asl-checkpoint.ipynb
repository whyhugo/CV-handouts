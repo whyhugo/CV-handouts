{
 "cells": [
  {
   "cell_type": "markdown",
   "id": "04538559-925a-498b-9b63-84b66e9e5a9c",
   "metadata": {},
   "source": [
    "# Deep Learning: Image Classification with ASL dataset\n",
    "> AHSNCCU/NTNU CSIE 王修佑"
   ]
  },
  {
   "cell_type": "markdown",
   "id": "5cf9a2b1-2b89-42a4-9d04-a4dbef7cee74",
   "metadata": {
    "tags": []
   },
   "source": [
    "## 美國手語資料集"
   ]
  },
  {
   "cell_type": "markdown",
   "id": "0ef72e2b-f3fa-4ad2-ad53-07516d847276",
   "metadata": {},
   "source": [
    "[美國手語字母表](http://www.asl.gs/)含有 26 個字母。其中兩個字母 (j 和 z) 需要移動，因此不會包含在訓練資料集中。\n",
    "\n",
    "<img src = \"./asl/american_sign_language.PNG\" style=\"width: 600px;\">"
   ]
  },
  {
   "cell_type": "markdown",
   "id": "54836248-0272-4e04-9119-1ed8f8b09ed3",
   "metadata": {},
   "source": [
    "## 載入資料"
   ]
  },
  {
   "cell_type": "markdown",
   "id": "8e4025e3-09b2-4e5c-aa41-2d78a900bad0",
   "metadata": {},
   "source": [
    "> 我們資料集的取得方式👉Kaggle  \n",
    "> https://www.kaggle.com/datasets/datamunge/sign-language-mnist"
   ]
  },
  {
   "cell_type": "markdown",
   "id": "c4e409dc-740e-43a2-9cfc-9418a2a8b5c7",
   "metadata": {},
   "source": [
    "我們要將資料集化分為 `x_train`、`y_train`、`x_valid` 和 `y_valid` 變數"
   ]
  },
  {
   "cell_type": "markdown",
   "id": "40cd0605-d4f5-4bc9-a233-b416a5fd6943",
   "metadata": {},
   "source": [
    "### 讀取資料"
   ]
  },
  {
   "cell_type": "markdown",
   "id": "d4fee0c4-3e91-4da9-b64a-ed432873f798",
   "metadata": {},
   "source": [
    "使用Pandas函式庫讀取CSV file，透過DataFrame處理資料"
   ]
  },
  {
   "cell_type": "code",
   "execution_count": 1,
   "id": "db0a78d4-9445-4589-ac7c-c58ab98bbb4b",
   "metadata": {},
   "outputs": [],
   "source": [
    "import pandas as pd\n",
    "\n",
    "train_df = pd.read_csv(\"asl/sign_mnist_train.csv\")\n",
    "valid_df = pd.read_csv(\"asl/sign_mnist_valid.csv\")"
   ]
  },
  {
   "cell_type": "markdown",
   "id": "a68a942f-cfa5-4be4-9ce3-d7cf98d2ce75",
   "metadata": {},
   "source": [
    "### 探索資料"
   ]
  },
  {
   "cell_type": "code",
   "execution_count": 2,
   "id": "114dfda9-5ad4-44e2-9ba1-188f61c0fd11",
   "metadata": {},
   "outputs": [
    {
     "data": {
      "text/html": [
       "<div>\n",
       "<style scoped>\n",
       "    .dataframe tbody tr th:only-of-type {\n",
       "        vertical-align: middle;\n",
       "    }\n",
       "\n",
       "    .dataframe tbody tr th {\n",
       "        vertical-align: top;\n",
       "    }\n",
       "\n",
       "    .dataframe thead th {\n",
       "        text-align: right;\n",
       "    }\n",
       "</style>\n",
       "<table border=\"1\" class=\"dataframe\">\n",
       "  <thead>\n",
       "    <tr style=\"text-align: right;\">\n",
       "      <th></th>\n",
       "      <th>label</th>\n",
       "      <th>pixel1</th>\n",
       "      <th>pixel2</th>\n",
       "      <th>pixel3</th>\n",
       "      <th>pixel4</th>\n",
       "      <th>pixel5</th>\n",
       "      <th>pixel6</th>\n",
       "      <th>pixel7</th>\n",
       "      <th>pixel8</th>\n",
       "      <th>pixel9</th>\n",
       "      <th>...</th>\n",
       "      <th>pixel775</th>\n",
       "      <th>pixel776</th>\n",
       "      <th>pixel777</th>\n",
       "      <th>pixel778</th>\n",
       "      <th>pixel779</th>\n",
       "      <th>pixel780</th>\n",
       "      <th>pixel781</th>\n",
       "      <th>pixel782</th>\n",
       "      <th>pixel783</th>\n",
       "      <th>pixel784</th>\n",
       "    </tr>\n",
       "  </thead>\n",
       "  <tbody>\n",
       "    <tr>\n",
       "      <th>0</th>\n",
       "      <td>3</td>\n",
       "      <td>107</td>\n",
       "      <td>118</td>\n",
       "      <td>127</td>\n",
       "      <td>134</td>\n",
       "      <td>139</td>\n",
       "      <td>143</td>\n",
       "      <td>146</td>\n",
       "      <td>150</td>\n",
       "      <td>153</td>\n",
       "      <td>...</td>\n",
       "      <td>207</td>\n",
       "      <td>207</td>\n",
       "      <td>207</td>\n",
       "      <td>207</td>\n",
       "      <td>206</td>\n",
       "      <td>206</td>\n",
       "      <td>206</td>\n",
       "      <td>204</td>\n",
       "      <td>203</td>\n",
       "      <td>202</td>\n",
       "    </tr>\n",
       "    <tr>\n",
       "      <th>1</th>\n",
       "      <td>6</td>\n",
       "      <td>155</td>\n",
       "      <td>157</td>\n",
       "      <td>156</td>\n",
       "      <td>156</td>\n",
       "      <td>156</td>\n",
       "      <td>157</td>\n",
       "      <td>156</td>\n",
       "      <td>158</td>\n",
       "      <td>158</td>\n",
       "      <td>...</td>\n",
       "      <td>69</td>\n",
       "      <td>149</td>\n",
       "      <td>128</td>\n",
       "      <td>87</td>\n",
       "      <td>94</td>\n",
       "      <td>163</td>\n",
       "      <td>175</td>\n",
       "      <td>103</td>\n",
       "      <td>135</td>\n",
       "      <td>149</td>\n",
       "    </tr>\n",
       "    <tr>\n",
       "      <th>2</th>\n",
       "      <td>2</td>\n",
       "      <td>187</td>\n",
       "      <td>188</td>\n",
       "      <td>188</td>\n",
       "      <td>187</td>\n",
       "      <td>187</td>\n",
       "      <td>186</td>\n",
       "      <td>187</td>\n",
       "      <td>188</td>\n",
       "      <td>187</td>\n",
       "      <td>...</td>\n",
       "      <td>202</td>\n",
       "      <td>201</td>\n",
       "      <td>200</td>\n",
       "      <td>199</td>\n",
       "      <td>198</td>\n",
       "      <td>199</td>\n",
       "      <td>198</td>\n",
       "      <td>195</td>\n",
       "      <td>194</td>\n",
       "      <td>195</td>\n",
       "    </tr>\n",
       "    <tr>\n",
       "      <th>3</th>\n",
       "      <td>2</td>\n",
       "      <td>211</td>\n",
       "      <td>211</td>\n",
       "      <td>212</td>\n",
       "      <td>212</td>\n",
       "      <td>211</td>\n",
       "      <td>210</td>\n",
       "      <td>211</td>\n",
       "      <td>210</td>\n",
       "      <td>210</td>\n",
       "      <td>...</td>\n",
       "      <td>235</td>\n",
       "      <td>234</td>\n",
       "      <td>233</td>\n",
       "      <td>231</td>\n",
       "      <td>230</td>\n",
       "      <td>226</td>\n",
       "      <td>225</td>\n",
       "      <td>222</td>\n",
       "      <td>229</td>\n",
       "      <td>163</td>\n",
       "    </tr>\n",
       "    <tr>\n",
       "      <th>4</th>\n",
       "      <td>13</td>\n",
       "      <td>164</td>\n",
       "      <td>167</td>\n",
       "      <td>170</td>\n",
       "      <td>172</td>\n",
       "      <td>176</td>\n",
       "      <td>179</td>\n",
       "      <td>180</td>\n",
       "      <td>184</td>\n",
       "      <td>185</td>\n",
       "      <td>...</td>\n",
       "      <td>92</td>\n",
       "      <td>105</td>\n",
       "      <td>105</td>\n",
       "      <td>108</td>\n",
       "      <td>133</td>\n",
       "      <td>163</td>\n",
       "      <td>157</td>\n",
       "      <td>163</td>\n",
       "      <td>164</td>\n",
       "      <td>179</td>\n",
       "    </tr>\n",
       "  </tbody>\n",
       "</table>\n",
       "<p>5 rows × 785 columns</p>\n",
       "</div>"
      ],
      "text/plain": [
       "   label  pixel1  pixel2  pixel3  pixel4  pixel5  pixel6  pixel7  pixel8  \\\n",
       "0      3     107     118     127     134     139     143     146     150   \n",
       "1      6     155     157     156     156     156     157     156     158   \n",
       "2      2     187     188     188     187     187     186     187     188   \n",
       "3      2     211     211     212     212     211     210     211     210   \n",
       "4     13     164     167     170     172     176     179     180     184   \n",
       "\n",
       "   pixel9  ...  pixel775  pixel776  pixel777  pixel778  pixel779  pixel780  \\\n",
       "0     153  ...       207       207       207       207       206       206   \n",
       "1     158  ...        69       149       128        87        94       163   \n",
       "2     187  ...       202       201       200       199       198       199   \n",
       "3     210  ...       235       234       233       231       230       226   \n",
       "4     185  ...        92       105       105       108       133       163   \n",
       "\n",
       "   pixel781  pixel782  pixel783  pixel784  \n",
       "0       206       204       203       202  \n",
       "1       175       103       135       149  \n",
       "2       198       195       194       195  \n",
       "3       225       222       229       163  \n",
       "4       157       163       164       179  \n",
       "\n",
       "[5 rows x 785 columns]"
      ]
     },
     "execution_count": 2,
     "metadata": {},
     "output_type": "execute_result"
    }
   ],
   "source": [
    "train_df.head()"
   ]
  },
  {
   "cell_type": "markdown",
   "id": "f814737f-2087-4250-9bda-cd1a370d9418",
   "metadata": {},
   "source": [
    "### 擷取影像類別"
   ]
  },
  {
   "cell_type": "code",
   "execution_count": 3,
   "id": "21d64f91-94b0-487b-9196-4fe72e8fc2b1",
   "metadata": {},
   "outputs": [],
   "source": [
    "y_train = train_df['label']\n",
    "y_valid = valid_df['label']\n",
    "del train_df['label']\n",
    "del valid_df['label']"
   ]
  },
  {
   "cell_type": "markdown",
   "id": "233b39a7-415e-49bb-a195-f54610bbac48",
   "metadata": {},
   "source": [
    "### 擷取影像"
   ]
  },
  {
   "cell_type": "code",
   "execution_count": 4,
   "id": "02588249-4742-40db-a926-ee243dec6442",
   "metadata": {},
   "outputs": [],
   "source": [
    "x_train = train_df.values\n",
    "x_valid = valid_df.values"
   ]
  },
  {
   "cell_type": "markdown",
   "id": "9802da51-8071-4791-b1f3-6a6df9445330",
   "metadata": {},
   "source": [
    "### 總結訓練與驗證資料"
   ]
  },
  {
   "cell_type": "code",
   "execution_count": null,
   "id": "f59de77d-6853-4d10-80c3-95b02dab1ae5",
   "metadata": {},
   "outputs": [],
   "source": [
    "x_train.shape"
   ]
  },
  {
   "cell_type": "code",
   "execution_count": null,
   "id": "69a2fed7-8dee-4f09-bfd8-e0e8421c2b17",
   "metadata": {},
   "outputs": [],
   "source": [
    "y_train.shape"
   ]
  },
  {
   "cell_type": "code",
   "execution_count": null,
   "id": "df8551ac-8e6a-44f6-99d8-a795efed77fc",
   "metadata": {},
   "outputs": [],
   "source": [
    "x_valid.shape"
   ]
  },
  {
   "cell_type": "code",
   "execution_count": null,
   "id": "3e647297-b37c-4804-ab0b-035682c25bd1",
   "metadata": {},
   "outputs": [],
   "source": [
    "y_valid.shape"
   ]
  },
  {
   "cell_type": "markdown",
   "id": "08ed6a96-535d-4ede-9111-dc83c3dd1944",
   "metadata": {},
   "source": [
    "## 視覺化資料"
   ]
  },
  {
   "cell_type": "markdown",
   "id": "b5d4857d-b204-4907-8458-f946a29f1958",
   "metadata": {},
   "source": [
    "把資料(image) 1D to 2D"
   ]
  },
  {
   "cell_type": "code",
   "execution_count": null,
   "id": "81affcfa-f0a2-411e-b660-651e4c3af51b",
   "metadata": {},
   "outputs": [],
   "source": [
    "import matplotlib.pyplot as plt\n",
    "plt.figure(figsize=(40,40))\n",
    "\n",
    "num_images = 20\n",
    "for i in range(num_images):\n",
    "    row = x_train[i]\n",
    "    label = y_train[i]\n",
    "    \n",
    "    image = row.reshape(28,28)\n",
    "    plt.subplot(1, num_images, i+1)\n",
    "    plt.title(label, fontdict={'fontsize': 30})\n",
    "    plt.axis('off')\n",
    "    plt.imshow(image, cmap='gray')"
   ]
  },
  {
   "cell_type": "markdown",
   "id": "fc241772-6a77-435c-b8e3-fadf2fee330e",
   "metadata": {},
   "source": [
    "## 練習：正規化影像資料"
   ]
  },
  {
   "cell_type": "code",
   "execution_count": null,
   "id": "5ef7d75b-01aa-4a49-a0b5-3b51eb3e88d9",
   "metadata": {},
   "outputs": [],
   "source": [
    "x_train.min()"
   ]
  },
  {
   "cell_type": "code",
   "execution_count": null,
   "id": "d298f011-d42c-4b23-8cf6-f7b8e82399ba",
   "metadata": {},
   "outputs": [],
   "source": [
    "x_train.max()"
   ]
  },
  {
   "cell_type": "code",
   "execution_count": null,
   "id": "2323fa4d-28e0-4c71-ab8b-47f5c8dcfdb5",
   "metadata": {},
   "outputs": [],
   "source": [
    "# TODO: Normalize x_train and x_valid."
   ]
  },
  {
   "cell_type": "markdown",
   "id": "c346d062-dbd0-4876-bfd2-6395ed2ec862",
   "metadata": {},
   "source": [
    "按一下「...」看解答"
   ]
  },
  {
   "cell_type": "markdown",
   "id": "5c73aa1d-ccc0-4d85-a33f-b0e40f5043f0",
   "metadata": {
    "jupyter": {
     "source_hidden": true
    },
    "tags": []
   },
   "source": [
    "```python\n",
    "x_train = x_train / 255\n",
    "x_valid = x_valid / 255\n",
    "```"
   ]
  },
  {
   "cell_type": "markdown",
   "id": "b48e5a68-4100-4029-ae97-fa74006939f2",
   "metadata": {},
   "source": [
    "## 練習：影像分類"
   ]
  },
  {
   "cell_type": "markdown",
   "id": "ca580e60-3681-483b-9259-23e6698174ea",
   "metadata": {},
   "source": [
    "Hint: 使用 [keras.utils.to_categorical](https://www.tensorflow.org/api_docs/python/tf/keras/utils/to_categorical) 方法"
   ]
  },
  {
   "cell_type": "code",
   "execution_count": null,
   "id": "ab181c64-04f8-45af-9a50-6673d66ed21b",
   "metadata": {
    "tags": []
   },
   "outputs": [],
   "source": [
    "import tensorflow.keras as keras\n",
    "num_classes = 24"
   ]
  },
  {
   "cell_type": "code",
   "execution_count": null,
   "id": "5b5ea8be-74ab-4114-b03d-1e9dd1568518",
   "metadata": {},
   "outputs": [],
   "source": [
    "# TODO: Categorically encode y_train and y_valid."
   ]
  },
  {
   "cell_type": "markdown",
   "id": "fa874135-cfb4-4b2a-92d7-3b22eb4680b6",
   "metadata": {},
   "source": [
    "按一下「...」看解答"
   ]
  },
  {
   "cell_type": "markdown",
   "id": "26df3dea-d0a8-4d1c-bc84-4dbe7b5db023",
   "metadata": {
    "jupyter": {
     "source_hidden": true
    },
    "tags": []
   },
   "source": [
    "```python\n",
    "y_train = keras.utils.to_categorical(y_train, num_classes)\n",
    "y_valid = keras.utils.to_categorical(y_valid, num_classes)\n",
    "```"
   ]
  },
  {
   "cell_type": "markdown",
   "id": "3cf37235-8ced-4c48-a0e3-14b38e54a64b",
   "metadata": {},
   "source": [
    "## 練習：建立模型"
   ]
  },
  {
   "cell_type": "markdown",
   "id": "f50bf64b-a287-4446-9256-ed994559aeb5",
   "metadata": {},
   "source": [
    "We need...\n",
    "* 具有密集輸入層。這一層包含 512 個神經元，使用 `relu`激活函數，並接收形狀為 `(784,)` 的輸入影像。\n",
    "* 具有第二個密集輸入層，含有 512 個使用 `relu`激活函數的神經元\n",
    "* 具有密集輸出層，其神經元的數量與類別數量相等，並使用 `softmax`激活函數\n",
    "\n",
    "還不熟悉，參考一下mnist的範例吧~"
   ]
  },
  {
   "cell_type": "code",
   "execution_count": null,
   "id": "7bec834c-edbf-4053-8a92-3c8fcc925efa",
   "metadata": {},
   "outputs": [],
   "source": [
    "from tensorflow.keras.models import Sequential\n",
    "from tensorflow.keras.layers import Dense"
   ]
  },
  {
   "cell_type": "code",
   "execution_count": null,
   "id": "4ea91cb9-68bf-4f96-8138-aeb2879c991f",
   "metadata": {},
   "outputs": [],
   "source": [
    "# TODO: build a model following the guidelines above."
   ]
  },
  {
   "cell_type": "markdown",
   "id": "9991bd1c-b165-48dd-b65b-21b8085949eb",
   "metadata": {},
   "source": [
    "按一下「...」看解答"
   ]
  },
  {
   "cell_type": "markdown",
   "id": "c224e94d-e948-4fa1-93e2-c854958d4ad9",
   "metadata": {
    "jupyter": {
     "source_hidden": true
    },
    "tags": []
   },
   "source": [
    "```python\n",
    "model = Sequential()\n",
    "model.add(Dense(units = 512, activation='relu', input_shape=(784,)))\n",
    "model.add(Dense(units = 512, activation='relu'))\n",
    "model.add(Dense(units = num_classes, activation='softmax'))\n",
    "```"
   ]
  },
  {
   "cell_type": "markdown",
   "id": "d0f08022-8c17-4cfe-9a30-8efe26f0cdd6",
   "metadata": {},
   "source": [
    "## 總結模型"
   ]
  },
  {
   "cell_type": "code",
   "execution_count": null,
   "id": "a595bcb2-749e-4eda-adbd-5a6a680a89f8",
   "metadata": {},
   "outputs": [],
   "source": [
    "model.summary()"
   ]
  },
  {
   "cell_type": "markdown",
   "id": "9f6152e2-0bd3-4a8b-87bf-4694a6d3eefa",
   "metadata": {},
   "source": [
    "## 編寫模型"
   ]
  },
  {
   "cell_type": "markdown",
   "id": "7abf7fb3-52a3-4555-956d-0bd6a909d6f1",
   "metadata": {},
   "source": [
    "使用[CategoricalCrossentropy](https://www.tensorflow.org/api_docs/python/tf/keras/losses/CategoricalCrossentropy)"
   ]
  },
  {
   "cell_type": "code",
   "execution_count": null,
   "id": "295a8632-a6d1-4545-8322-979903541fe1",
   "metadata": {},
   "outputs": [],
   "source": [
    "model.compile(loss='categorical_crossentropy', metrics=['accuracy'])"
   ]
  },
  {
   "cell_type": "markdown",
   "id": "1e233c51-f8cb-4cfa-b24f-2588a60b87fe",
   "metadata": {},
   "source": [
    "## 練習：訓練模型"
   ]
  },
  {
   "cell_type": "markdown",
   "id": "587b1ac0-cdbf-4d64-9969-8409e231526e",
   "metadata": {},
   "source": [
    "使用模型的 `fit`方法來對模型進行 20 個 Epoch 的訓練，使用的是先前建立的訓練與驗證影像和類別："
   ]
  },
  {
   "cell_type": "code",
   "execution_count": null,
   "id": "6f43d01a-4904-4909-93de-c35e69901f19",
   "metadata": {},
   "outputs": [],
   "source": [
    "# TODO: Train the model for 20 epochs."
   ]
  },
  {
   "cell_type": "markdown",
   "id": "139260e6-6642-4e6a-bee2-233ad07f9c36",
   "metadata": {},
   "source": [
    "按一下「...」看解答"
   ]
  },
  {
   "cell_type": "markdown",
   "id": "cf01de22-2e5d-42b4-9fe1-3bd330108cf7",
   "metadata": {
    "jupyter": {
     "source_hidden": true
    },
    "tags": []
   },
   "source": [
    "```python\n",
    "model.fit(x_train, y_train, epochs=20, verbose=1, validation_data=(x_valid, y_valid))\n",
    "```"
   ]
  },
  {
   "cell_type": "markdown",
   "id": "9e604b7e-dbd7-4adb-9fe6-b6796dfefa6b",
   "metadata": {},
   "source": [
    "## 討論：發生什麼事了？"
   ]
  },
  {
   "cell_type": "markdown",
   "id": "5d1e0c49-4846-4139-992d-397d0ae8a229",
   "metadata": {
    "jupyter": {
     "source_hidden": true
    },
    "tags": []
   },
   "source": [
    "Overfitting!"
   ]
  },
  {
   "cell_type": "code",
   "execution_count": null,
   "id": "d1f92b66-abcc-45cc-9f1f-b4f1571d6459",
   "metadata": {},
   "outputs": [],
   "source": []
  },
  {
   "cell_type": "markdown",
   "id": "d3d09155-3566-4b13-a6b2-fd1a32c5f3ae",
   "metadata": {},
   "source": [
    "## 清除記憶體"
   ]
  },
  {
   "cell_type": "code",
   "execution_count": null,
   "id": "67ebbef9-1a8c-4bee-8dad-42ea521249a4",
   "metadata": {},
   "outputs": [],
   "source": [
    "import IPython\n",
    "app = IPython.Application.instance()\n",
    "app.kernel.do_shutdown(True)"
   ]
  }
 ],
 "metadata": {
  "kernelspec": {
   "display_name": "Python 3 (ipykernel)",
   "language": "python",
   "name": "python3"
  },
  "language_info": {
   "codemirror_mode": {
    "name": "ipython",
    "version": 3
   },
   "file_extension": ".py",
   "mimetype": "text/x-python",
   "name": "python",
   "nbconvert_exporter": "python",
   "pygments_lexer": "ipython3",
   "version": "3.10.5"
  }
 },
 "nbformat": 4,
 "nbformat_minor": 5
}
