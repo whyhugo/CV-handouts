{
 "cells": [
  {
   "cell_type": "markdown",
   "id": "673e797a-e31c-4e33-8b96-5bdf121f386e",
   "metadata": {},
   "source": [
    "# Deep Learning: CNN with ASL dataset\n",
    "> AHSNCCU/NTNU CSIE 王修佑"
   ]
  },
  {
   "cell_type": "markdown",
   "id": "182fcb09-83df-438e-ae32-319bef55a646",
   "metadata": {},
   "source": [
    "Convolution Neural Network 卷積神經網路"
   ]
  },
  {
   "cell_type": "markdown",
   "id": "a8f3e84c-80ae-4c70-9383-33bf28312a44",
   "metadata": {},
   "source": [
    "## 載入和準備資料"
   ]
  },
  {
   "cell_type": "code",
   "execution_count": 2,
   "id": "923bbfef-8a57-4a75-acef-247c65a7ae93",
   "metadata": {},
   "outputs": [],
   "source": [
    "import tensorflow.keras as keras\n",
    "import pandas as pd\n",
    "\n",
    "# Load in our data from CSV files\n",
    "train_df = pd.read_csv(\"asl/sign_mnist_train.csv\")\n",
    "valid_df = pd.read_csv(\"asl/sign_mnist_valid.csv\")\n",
    "\n",
    "# Separate out our target values\n",
    "y_train = train_df['label']\n",
    "y_valid = valid_df['label']\n",
    "del train_df['label']\n",
    "del valid_df['label']\n",
    "\n",
    "# Separate out our image vectors\n",
    "x_train = train_df.values\n",
    "x_valid = valid_df.values\n",
    "\n",
    "# Turn our scalar targets into binary categories\n",
    "num_classes = 24\n",
    "y_train = keras.utils.to_categorical(y_train, num_classes)\n",
    "y_valid = keras.utils.to_categorical(y_valid, num_classes)\n",
    "\n",
    "# Normalize our image data\n",
    "x_train = x_train / 255\n",
    "x_valid = x_valid / 255"
   ]
  },
  {
   "cell_type": "markdown",
   "id": "c0171652-face-4fb8-970f-3a9b9329cf85",
   "metadata": {},
   "source": [
    "## 為卷積神經網路重新調整影像"
   ]
  },
  {
   "cell_type": "markdown",
   "id": "de28c9af-63b8-4d59-851c-dbafa4e600d2",
   "metadata": {},
   "source": [
    "+ 將目前的形狀(784像素) `(27455, 784)`轉換成(28x28像素) `(27455, 28, 28, 1)`\n",
    "+ reshape(`-1`不改變維度, `28`像素, `28`像素, `1`色頻數量)"
   ]
  },
  {
   "cell_type": "code",
   "execution_count": 3,
   "id": "9fb0f7aa-1cbe-4be3-8efa-a0cad353639e",
   "metadata": {},
   "outputs": [
    {
     "data": {
      "text/plain": [
       "((27455, 784), (7172, 784))"
      ]
     },
     "execution_count": 3,
     "metadata": {},
     "output_type": "execute_result"
    }
   ],
   "source": [
    "x_train.shape, x_valid.shape"
   ]
  },
  {
   "cell_type": "code",
   "execution_count": null,
   "id": "0b2ac365-ede4-48a2-a287-3cbee7efead9",
   "metadata": {},
   "outputs": [],
   "source": [
    "x_train = x_train.reshape(-1,28,28,1)\n",
    "x_valid = x_valid.reshape(-1,28,28,1)"
   ]
  },
  {
   "cell_type": "code",
   "execution_count": null,
   "id": "22038c21-d4b7-4ff1-9614-d9310ad58334",
   "metadata": {},
   "outputs": [],
   "source": [
    "x_train.shape"
   ]
  },
  {
   "cell_type": "code",
   "execution_count": null,
   "id": "a37c57c9-1151-4bdd-9cc9-32c82bcc230b",
   "metadata": {},
   "outputs": [],
   "source": [
    "x_valid.shape"
   ]
  },
  {
   "cell_type": "code",
   "execution_count": null,
   "id": "83ff4cce-0d69-4696-b5bf-e48f83cee3e1",
   "metadata": {},
   "outputs": [],
   "source": [
    "x_train.shape, x_valid.shape"
   ]
  },
  {
   "cell_type": "markdown",
   "id": "a9afb05e-bfa7-4396-ab14-1b7da8d2e467",
   "metadata": {},
   "source": [
    "## 建立卷積模型"
   ]
  },
  {
   "cell_type": "markdown",
   "id": "7f4391f5-4394-41d5-b079-1fafa761934c",
   "metadata": {},
   "source": [
    "<img src=\"images/cnn.png\" width=180 />\n",
    "\n",
    "解決類似的問題，可使用開源模型修改"
   ]
  },
  {
   "cell_type": "code",
   "execution_count": null,
   "id": "cd6177b7-94db-4dad-99ac-1d22fa1d34c3",
   "metadata": {},
   "outputs": [],
   "source": [
    "from tensorflow.keras.models import Sequential\n",
    "from tensorflow.keras.layers import (\n",
    "    Dense,\n",
    "    Conv2D,\n",
    "    MaxPool2D,\n",
    "    Flatten,\n",
    "    Dropout,\n",
    "    BatchNormalization,\n",
    ")\n",
    "\n",
    "model = Sequential()\n",
    "model.add(Conv2D(75, (3, 3), strides=1, padding=\"same\", activation=\"relu\", \n",
    "                 input_shape=(28, 28, 1)))\n",
    "model.add(BatchNormalization())\n",
    "model.add(MaxPool2D((2, 2), strides=2, padding=\"same\"))\n",
    "model.add(Conv2D(50, (3, 3), strides=1, padding=\"same\", activation=\"relu\"))\n",
    "model.add(Dropout(0.2))\n",
    "model.add(BatchNormalization())\n",
    "model.add(MaxPool2D((2, 2), strides=2, padding=\"same\"))\n",
    "model.add(Conv2D(25, (3, 3), strides=1, padding=\"same\", activation=\"relu\"))\n",
    "model.add(BatchNormalization())\n",
    "model.add(MaxPool2D((2, 2), strides=2, padding=\"same\"))\n",
    "model.add(Flatten())\n",
    "model.add(Dense(units=512, activation=\"relu\"))\n",
    "model.add(Dropout(0.3))\n",
    "model.add(Dense(units=num_classes, activation=\"softmax\"))"
   ]
  },
  {
   "cell_type": "markdown",
   "id": "afc2eb03-3d18-412e-9f70-39b7e99e281e",
   "metadata": {},
   "source": [
    "### Conv2D"
   ]
  },
  {
   "cell_type": "markdown",
   "id": "accf6c6b-e3e8-442a-ad7f-4c7f47e5aced",
   "metadata": {},
   "source": [
    "<img src=\"images/conv2d.png\" width=300 />"
   ]
  },
  {
   "cell_type": "markdown",
   "id": "e432d802-fbfa-4799-bca9-bb6da1445213",
   "metadata": {},
   "source": [
    "2D 卷積層\n",
    "```Python\n",
    "model.add(Conv2D(75 , (3,3) , strides = 1 , padding = 'same'...)\n",
    "```\n",
    "75 指的是將要學習的核心(過濾器filter)數量。(3,3) 指的是這些核心的大小。strides指的是濾鏡經過影像時採用的步長。padding指的是從濾鏡建立的輸出影像是否與輸入影像的大小相符(convolution 會縮小)。"
   ]
  },
  {
   "cell_type": "markdown",
   "id": "1782373f-a475-4dbd-ae97-a5122d20d554",
   "metadata": {},
   "source": [
    "<img src=\"images/filter.gif\" width=600 />"
   ]
  },
  {
   "cell_type": "markdown",
   "id": "8db47301-3bcf-4f72-a930-77e37d14e71e",
   "metadata": {},
   "source": [
    "### BatchNormalization"
   ]
  },
  {
   "cell_type": "markdown",
   "id": "86d14df1-9600-4258-949c-9c73ed3e6970",
   "metadata": {},
   "source": [
    "批次正規化\n",
    "> 調整隱藏層中的值，以提升訓練品質<br>\n",
    "+ 有效減緩Activation Function(Sigmoid) 梯度(Gradient)消失的問題\n",
    "+ 解決 Internal Covariate Shift\n",
    "+ 加速模型收斂\n",
    "+ 具有正則化效果\n",
    "\n",
    "> Reference: https://medium.com/ching-i/batch-normalization-%E4%BB%8B%E7%B4%B9-135a24928f12"
   ]
  },
  {
   "cell_type": "code",
   "execution_count": null,
   "id": "b0564d9b-2be9-4146-b917-38a47b31633d",
   "metadata": {},
   "outputs": [],
   "source": []
  }
 ],
 "metadata": {
  "kernelspec": {
   "display_name": "Python 3 (ipykernel)",
   "language": "python",
   "name": "python3"
  },
  "language_info": {
   "codemirror_mode": {
    "name": "ipython",
    "version": 3
   },
   "file_extension": ".py",
   "mimetype": "text/x-python",
   "name": "python",
   "nbconvert_exporter": "python",
   "pygments_lexer": "ipython3",
   "version": "3.10.5"
  }
 },
 "nbformat": 4,
 "nbformat_minor": 5
}
