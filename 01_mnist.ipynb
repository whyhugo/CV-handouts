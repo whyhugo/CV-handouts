{
 "cells": [
  {
   "cell_type": "markdown",
   "id": "bdebfc25-ed01-44be-be97-ff6450348dd2",
   "metadata": {
    "tags": []
   },
   "source": [
    "# Deep Learning: Image Classification with MNIST dataset\n",
    "> AHSNCCU/NTNU CSIE 王修佑"
   ]
  },
  {
   "cell_type": "markdown",
   "id": "eb58ca39-1404-4b4c-807c-9be4c7256c7f",
   "metadata": {
    "tags": []
   },
   "source": [
    "## 清理GPU記憶體"
   ]
  },
  {
   "cell_type": "code",
   "execution_count": null,
   "id": "e7837ccb-bf12-4af6-9590-762ad5b6af7a",
   "metadata": {},
   "outputs": [],
   "source": [
    "import IPython\n",
    "app = IPython.Application.instance()\n",
    "app.kernel.do_shutdown(True)"
   ]
  },
  {
   "cell_type": "markdown",
   "id": "f4712b3b-a058-44cb-8ec3-8994cc8fc358",
   "metadata": {
    "tags": []
   },
   "source": [
    "## 查看GPU狀態"
   ]
  },
  {
   "cell_type": "code",
   "execution_count": 28,
   "id": "b083d460-2b48-469d-8cf2-68dd7289762d",
   "metadata": {},
   "outputs": [
    {
     "name": "stdout",
     "output_type": "stream",
     "text": [
      "Mon Feb 27 14:55:22 2023       \n",
      "+-----------------------------------------------------------------------------+\n",
      "| NVIDIA-SMI 528.49       Driver Version: 528.49       CUDA Version: 12.0     |\n",
      "|-------------------------------+----------------------+----------------------+\n",
      "| GPU  Name            TCC/WDDM | Bus-Id        Disp.A | Volatile Uncorr. ECC |\n",
      "| Fan  Temp  Perf  Pwr:Usage/Cap|         Memory-Usage | GPU-Util  Compute M. |\n",
      "|                               |                      |               MIG M. |\n",
      "|===============================+======================+======================|\n",
      "|   0  NVIDIA GeForce ... WDDM  | 00000000:01:00.0 Off |                  N/A |\n",
      "| N/A   38C    P0    11W /  35W |      0MiB /  4096MiB |      0%      Default |\n",
      "|                               |                      |                  N/A |\n",
      "+-------------------------------+----------------------+----------------------+\n",
      "                                                                               \n",
      "+-----------------------------------------------------------------------------+\n",
      "| Processes:                                                                  |\n",
      "|  GPU   GI   CI        PID   Type   Process name                  GPU Memory |\n",
      "|        ID   ID                                                   Usage      |\n",
      "|=============================================================================|\n",
      "|  No running processes found                                                 |\n",
      "+-----------------------------------------------------------------------------+\n"
     ]
    }
   ],
   "source": [
    "!nvidia-smi"
   ]
  },
  {
   "cell_type": "markdown",
   "id": "81bf02e1-c62f-4482-83b0-33fcc0b692b5",
   "metadata": {},
   "source": [
    "---"
   ]
  },
  {
   "cell_type": "markdown",
   "id": "cd5decdc-0328-42d2-996c-536606d975a7",
   "metadata": {
    "tags": []
   },
   "source": [
    "## MNIST 資料集"
   ]
  },
  {
   "cell_type": "markdown",
   "id": "b4652dc8-edc5-4577-a285-e7d658cc0101",
   "metadata": {},
   "source": [
    "由 70,000 張從 0 到 9 手寫數字灰階影像組成的 [MNSIT 資料集](http://yann.lecun.com/exdb/mnist/)能夠實現準確的影像分類，是深度學習歷史上的一大進展。雖然現在這項問題並沒有被視為重大問題，但使用 MNIST 進行影像分類已成為深度學習的「Hello World」。"
   ]
  },
  {
   "cell_type": "markdown",
   "id": "429fbe85-6d29-41f7-bc3d-24aacb3d017a",
   "metadata": {},
   "source": [
    "以下是 MNIST 資料集包含的其中 40 張影像："
   ]
  },
  {
   "cell_type": "markdown",
   "id": "8d4bb700-75a5-49d8-b3c2-c01600929d2f",
   "metadata": {},
   "source": [
    "<img src=\"images/mnist.png\" style=\"width: 600px;\">"
   ]
  },
  {
   "cell_type": "markdown",
   "id": "4b4a3bf5-7e78-442b-a5c5-be99f15d385d",
   "metadata": {
    "tags": []
   },
   "source": [
    "## 訓練及驗證資料與標籤"
   ]
  },
  {
   "cell_type": "markdown",
   "id": "e5db3b97-9dee-4ce0-97e7-8af5305ec12c",
   "metadata": {},
   "source": [
    "1. `x_train`：用於訓練神經網路的影像<br>\n",
    "2. `y_train`：`x_train` 影像的正確標籤，用於評估模型在訓練過程中的預測表現<br>\n",
    "3. `x_valid`：另外一組影像，用於驗證模型經過訓練後的效能<br>\n",
    "4. `y_valid`：`x_valid` 影像的正確標籤，用於評估模型經過訓練後的預測表現<br>\n",
    "\n",
    "+ Definitions of Train, Validation, and Test Datasets\n",
    "    + Training Dataset: The sample of data used to fit the model.\n",
    "    + Validation Dataset: The sample of data used to provide an unbiased evaluation of a model fit on the training dataset while tuning model hyperparameters. The evaluation becomes more biased as skill on the validation dataset is incorporated into the model configuration.\n",
    "    + Test Dataset: The sample of data used to provide an unbiased evaluation of a final model fit on the training dataset.\n",
    "\n",
    "\n",
    "> + Training set: A set of examples used for learning, that is to fit the parameters of the classifier.\n",
    "> + Validation set: A set of examples used to tune the parameters of a classifier, for example to choose the number of hidden units in a neural network.\n",
    "> + Test set: A set of examples used only to assess the performance of a fully-specified classifier.  \n",
    ">\n",
    "> Brian Ripley, page 354, Pattern Recognition and Neural Networks, 1996"
   ]
  },
  {
   "cell_type": "markdown",
   "id": "896ed99a-1fe9-43ea-a71c-34da952eb832",
   "metadata": {
    "tags": []
   },
   "source": [
    "## 將資料載入記憶體 (透過 Keras)"
   ]
  },
  {
   "cell_type": "markdown",
   "id": "5754b065-aa69-4424-bec7-e0c3c779661f",
   "metadata": {},
   "source": [
    "載入 MNIST 的 Keras 資料集模組"
   ]
  },
  {
   "cell_type": "code",
   "execution_count": 1,
   "id": "558dc68d-587f-475b-afa8-83189f829dfc",
   "metadata": {},
   "outputs": [],
   "source": [
    "from tensorflow.keras.datasets import mnist"
   ]
  },
  {
   "cell_type": "markdown",
   "id": "51b3dffb-2d50-44e1-bb43-b0949d297442",
   "metadata": {},
   "source": [
    "載入 MNIST 資料，資料已分割成影像和標籤，可用於訓練與驗證"
   ]
  },
  {
   "cell_type": "code",
   "execution_count": 2,
   "id": "c45f6c66-ab06-40ee-bd9d-addbe4bb2446",
   "metadata": {},
   "outputs": [],
   "source": [
    "# the data, split between train and validation sets\n",
    "(x_train, y_train), (x_valid, y_valid) = mnist.load_data()"
   ]
  },
  {
   "cell_type": "markdown",
   "id": "b21b43d8-2f03-473b-a940-534b208d6bb3",
   "metadata": {},
   "source": [
    "## 探索 MNIST 資料"
   ]
  },
  {
   "cell_type": "code",
   "execution_count": 3,
   "id": "832fb49e-5f6c-4a78-ae26-073d72dd3670",
   "metadata": {},
   "outputs": [
    {
     "data": {
      "text/plain": [
       "(60000, 28, 28)"
      ]
     },
     "execution_count": 3,
     "metadata": {},
     "output_type": "execute_result"
    }
   ],
   "source": [
    "x_train.shape"
   ]
  },
  {
   "cell_type": "code",
   "execution_count": 4,
   "id": "0e80b155-a7f4-4cdf-a033-88343361165b",
   "metadata": {},
   "outputs": [
    {
     "data": {
      "text/plain": [
       "(10000, 28, 28)"
      ]
     },
     "execution_count": 4,
     "metadata": {},
     "output_type": "execute_result"
    }
   ],
   "source": [
    "x_valid.shape"
   ]
  },
  {
   "cell_type": "markdown",
   "id": "6b36731c-d9cc-446f-9e51-aaf4ce88aff3",
   "metadata": {},
   "source": [
    "+ 影像本身是尺寸 28x28 的 2D 陣列\n",
    "+ 介於 0 到 255 的 8 bits unsinged integer (正整數值)"
   ]
  },
  {
   "cell_type": "code",
   "execution_count": 5,
   "id": "fc182186-c4a3-40ba-a50e-95d9d85113cc",
   "metadata": {},
   "outputs": [
    {
     "data": {
      "text/plain": [
       "dtype('uint8')"
      ]
     },
     "execution_count": 5,
     "metadata": {},
     "output_type": "execute_result"
    }
   ],
   "source": [
    "x_train.dtype"
   ]
  },
  {
   "cell_type": "code",
   "execution_count": 6,
   "id": "f2369a06-df9b-4086-a4a4-27510132aab0",
   "metadata": {},
   "outputs": [
    {
     "data": {
      "text/plain": [
       "0"
      ]
     },
     "execution_count": 6,
     "metadata": {},
     "output_type": "execute_result"
    }
   ],
   "source": [
    "x_train.min()"
   ]
  },
  {
   "cell_type": "code",
   "execution_count": 7,
   "id": "71aa0cfd-ce8c-4aab-aa17-f7acfb423364",
   "metadata": {},
   "outputs": [
    {
     "data": {
      "text/plain": [
       "255"
      ]
     },
     "execution_count": 7,
     "metadata": {},
     "output_type": "execute_result"
    }
   ],
   "source": [
    "x_train.max()"
   ]
  },
  {
   "cell_type": "code",
   "execution_count": 8,
   "id": "10b5dfcd-e772-4e6e-b751-f99cda140b9a",
   "metadata": {
    "tags": []
   },
   "outputs": [
    {
     "data": {
      "text/plain": [
       "array([[  0,   0,   0,   0,   0,   0,   0,   0,   0,   0,   0,   0,   0,\n",
       "          0,   0,   0,   0,   0,   0,   0,   0,   0,   0,   0,   0,   0,\n",
       "          0,   0],\n",
       "       [  0,   0,   0,   0,   0,   0,   0,   0,   0,   0,   0,   0,   0,\n",
       "          0,   0,   0,   0,   0,   0,   0,   0,   0,   0,   0,   0,   0,\n",
       "          0,   0],\n",
       "       [  0,   0,   0,   0,   0,   0,   0,   0,   0,   0,   0,   0,   0,\n",
       "          0,   0,   0,   0,   0,   0,   0,   0,   0,   0,   0,   0,   0,\n",
       "          0,   0],\n",
       "       [  0,   0,   0,   0,   0,   0,   0,   0,   0,   0,   0,   0,   0,\n",
       "          0,   0,   0,   0,   0,   0,   0,   0,   0,   0,   0,   0,   0,\n",
       "          0,   0],\n",
       "       [  0,   0,   0,   0,   0,   0,   0,   0,   0,   0,   0,   0,   0,\n",
       "          0,   0,   0,   0,   0,   0,   0,   0,   0,   0,   0,   0,   0,\n",
       "          0,   0],\n",
       "       [  0,   0,   0,   0,   0,   0,   0,   0,   0,   0,   0,   0,   3,\n",
       "         18,  18,  18, 126, 136, 175,  26, 166, 255, 247, 127,   0,   0,\n",
       "          0,   0],\n",
       "       [  0,   0,   0,   0,   0,   0,   0,   0,  30,  36,  94, 154, 170,\n",
       "        253, 253, 253, 253, 253, 225, 172, 253, 242, 195,  64,   0,   0,\n",
       "          0,   0],\n",
       "       [  0,   0,   0,   0,   0,   0,   0,  49, 238, 253, 253, 253, 253,\n",
       "        253, 253, 253, 253, 251,  93,  82,  82,  56,  39,   0,   0,   0,\n",
       "          0,   0],\n",
       "       [  0,   0,   0,   0,   0,   0,   0,  18, 219, 253, 253, 253, 253,\n",
       "        253, 198, 182, 247, 241,   0,   0,   0,   0,   0,   0,   0,   0,\n",
       "          0,   0],\n",
       "       [  0,   0,   0,   0,   0,   0,   0,   0,  80, 156, 107, 253, 253,\n",
       "        205,  11,   0,  43, 154,   0,   0,   0,   0,   0,   0,   0,   0,\n",
       "          0,   0],\n",
       "       [  0,   0,   0,   0,   0,   0,   0,   0,   0,  14,   1, 154, 253,\n",
       "         90,   0,   0,   0,   0,   0,   0,   0,   0,   0,   0,   0,   0,\n",
       "          0,   0],\n",
       "       [  0,   0,   0,   0,   0,   0,   0,   0,   0,   0,   0, 139, 253,\n",
       "        190,   2,   0,   0,   0,   0,   0,   0,   0,   0,   0,   0,   0,\n",
       "          0,   0],\n",
       "       [  0,   0,   0,   0,   0,   0,   0,   0,   0,   0,   0,  11, 190,\n",
       "        253,  70,   0,   0,   0,   0,   0,   0,   0,   0,   0,   0,   0,\n",
       "          0,   0],\n",
       "       [  0,   0,   0,   0,   0,   0,   0,   0,   0,   0,   0,   0,  35,\n",
       "        241, 225, 160, 108,   1,   0,   0,   0,   0,   0,   0,   0,   0,\n",
       "          0,   0],\n",
       "       [  0,   0,   0,   0,   0,   0,   0,   0,   0,   0,   0,   0,   0,\n",
       "         81, 240, 253, 253, 119,  25,   0,   0,   0,   0,   0,   0,   0,\n",
       "          0,   0],\n",
       "       [  0,   0,   0,   0,   0,   0,   0,   0,   0,   0,   0,   0,   0,\n",
       "          0,  45, 186, 253, 253, 150,  27,   0,   0,   0,   0,   0,   0,\n",
       "          0,   0],\n",
       "       [  0,   0,   0,   0,   0,   0,   0,   0,   0,   0,   0,   0,   0,\n",
       "          0,   0,  16,  93, 252, 253, 187,   0,   0,   0,   0,   0,   0,\n",
       "          0,   0],\n",
       "       [  0,   0,   0,   0,   0,   0,   0,   0,   0,   0,   0,   0,   0,\n",
       "          0,   0,   0,   0, 249, 253, 249,  64,   0,   0,   0,   0,   0,\n",
       "          0,   0],\n",
       "       [  0,   0,   0,   0,   0,   0,   0,   0,   0,   0,   0,   0,   0,\n",
       "          0,  46, 130, 183, 253, 253, 207,   2,   0,   0,   0,   0,   0,\n",
       "          0,   0],\n",
       "       [  0,   0,   0,   0,   0,   0,   0,   0,   0,   0,   0,   0,  39,\n",
       "        148, 229, 253, 253, 253, 250, 182,   0,   0,   0,   0,   0,   0,\n",
       "          0,   0],\n",
       "       [  0,   0,   0,   0,   0,   0,   0,   0,   0,   0,  24, 114, 221,\n",
       "        253, 253, 253, 253, 201,  78,   0,   0,   0,   0,   0,   0,   0,\n",
       "          0,   0],\n",
       "       [  0,   0,   0,   0,   0,   0,   0,   0,  23,  66, 213, 253, 253,\n",
       "        253, 253, 198,  81,   2,   0,   0,   0,   0,   0,   0,   0,   0,\n",
       "          0,   0],\n",
       "       [  0,   0,   0,   0,   0,   0,  18, 171, 219, 253, 253, 253, 253,\n",
       "        195,  80,   9,   0,   0,   0,   0,   0,   0,   0,   0,   0,   0,\n",
       "          0,   0],\n",
       "       [  0,   0,   0,   0,  55, 172, 226, 253, 253, 253, 253, 244, 133,\n",
       "         11,   0,   0,   0,   0,   0,   0,   0,   0,   0,   0,   0,   0,\n",
       "          0,   0],\n",
       "       [  0,   0,   0,   0, 136, 253, 253, 253, 212, 135, 132,  16,   0,\n",
       "          0,   0,   0,   0,   0,   0,   0,   0,   0,   0,   0,   0,   0,\n",
       "          0,   0],\n",
       "       [  0,   0,   0,   0,   0,   0,   0,   0,   0,   0,   0,   0,   0,\n",
       "          0,   0,   0,   0,   0,   0,   0,   0,   0,   0,   0,   0,   0,\n",
       "          0,   0],\n",
       "       [  0,   0,   0,   0,   0,   0,   0,   0,   0,   0,   0,   0,   0,\n",
       "          0,   0,   0,   0,   0,   0,   0,   0,   0,   0,   0,   0,   0,\n",
       "          0,   0],\n",
       "       [  0,   0,   0,   0,   0,   0,   0,   0,   0,   0,   0,   0,   0,\n",
       "          0,   0,   0,   0,   0,   0,   0,   0,   0,   0,   0,   0,   0,\n",
       "          0,   0]], dtype=uint8)"
      ]
     },
     "execution_count": 8,
     "metadata": {},
     "output_type": "execute_result"
    }
   ],
   "source": [
    "x_train[0]"
   ]
  },
  {
   "cell_type": "markdown",
   "id": "e52e09c2-6a9f-470d-8e24-6e5c2d789d58",
   "metadata": {},
   "source": [
    "data視覺化"
   ]
  },
  {
   "cell_type": "code",
   "execution_count": 9,
   "id": "65cea69d-4bb4-4be2-9b7a-c4250446c56e",
   "metadata": {},
   "outputs": [
    {
     "data": {
      "text/plain": [
       "<matplotlib.image.AxesImage at 0x1d034a51cc0>"
      ]
     },
     "execution_count": 9,
     "metadata": {},
     "output_type": "execute_result"
    },
    {
     "data": {
      "image/png": "[encoded data removed]",
      "text/plain": [
       "<Figure size 432x288 with 1 Axes>"
      ]
     },
     "metadata": {
      "needs_background": "light"
     },
     "output_type": "display_data"
    }
   ],
   "source": [
    "import matplotlib.pyplot as plt\n",
    "\n",
    "image = x_train[0]\n",
    "plt.imshow(image, cmap='gray')"
   ]
  },
  {
   "cell_type": "markdown",
   "id": "0118e723-f4f7-49d0-a8d1-bae14e7cadf9",
   "metadata": {},
   "source": [
    "上面的那張圖是多少？(看`label`)"
   ]
  },
  {
   "cell_type": "code",
   "execution_count": 10,
   "id": "cc5ef64a-7129-4680-b251-59db6a06f006",
   "metadata": {},
   "outputs": [
    {
     "data": {
      "text/plain": [
       "5"
      ]
     },
     "execution_count": 10,
     "metadata": {},
     "output_type": "execute_result"
    }
   ],
   "source": [
    "y_train[0]"
   ]
  },
  {
   "cell_type": "markdown",
   "id": "36c80a56-1d6d-42aa-991a-6a7727f2843e",
   "metadata": {},
   "source": [
    "## 準備資料以進行訓練\n",
    "1. 扁平化 (Flatten) 影像資料，以簡化輸入至模型的影像資料\n",
    "2. 正規化影像資料，讓影像輸入值更適合用於模型\n",
    "3. 分類標籤，讓標籤值更適合用於模型1.扁平化 (Flatten) 影像資料，以簡化輸入至模型的影像資料"
   ]
  },
  {
   "cell_type": "markdown",
   "id": "d7537591-8543-494e-a64b-4aab41f655e6",
   "metadata": {},
   "source": [
    "### 扁平化 (Flatten) 影像資料"
   ]
  },
  {
   "cell_type": "markdown",
   "id": "aac1e39f-a846-4080-aa38-febfce6f0caa",
   "metadata": {},
   "source": [
    "調整為連續像素的單一陣列"
   ]
  },
  {
   "cell_type": "code",
   "execution_count": 11,
   "id": "a2d21514-becf-4e3b-8f17-3e4d76ef9328",
   "metadata": {},
   "outputs": [],
   "source": [
    "# Keras API Helper\n",
    "x_train = x_train.reshape(60000, 784)\n",
    "x_valid = x_valid.reshape(10000, 784)"
   ]
  },
  {
   "cell_type": "code",
   "execution_count": 12,
   "id": "d82467cc-30d2-4ca3-b1f2-48e992d3bc80",
   "metadata": {},
   "outputs": [
    {
     "data": {
      "text/plain": [
       "(60000, 784)"
      ]
     },
     "execution_count": 12,
     "metadata": {},
     "output_type": "execute_result"
    }
   ],
   "source": [
    "x_train.shape"
   ]
  },
  {
   "cell_type": "code",
   "execution_count": 13,
   "id": "3bdfe3a3-24ff-4ed1-9bd2-47efa122354f",
   "metadata": {},
   "outputs": [
    {
     "data": {
      "text/plain": [
       "array([  0,   0,   0,   0,   0,   0,   0,   0,   0,   0,   0,   0,   0,\n",
       "         0,   0,   0,   0,   0,   0,   0,   0,   0,   0,   0,   0,   0,\n",
       "         0,   0,   0,   0,   0,   0,   0,   0,   0,   0,   0,   0,   0,\n",
       "         0,   0,   0,   0,   0,   0,   0,   0,   0,   0,   0,   0,   0,\n",
       "         0,   0,   0,   0,   0,   0,   0,   0,   0,   0,   0,   0,   0,\n",
       "         0,   0,   0,   0,   0,   0,   0,   0,   0,   0,   0,   0,   0,\n",
       "         0,   0,   0,   0,   0,   0,   0,   0,   0,   0,   0,   0,   0,\n",
       "         0,   0,   0,   0,   0,   0,   0,   0,   0,   0,   0,   0,   0,\n",
       "         0,   0,   0,   0,   0,   0,   0,   0,   0,   0,   0,   0,   0,\n",
       "         0,   0,   0,   0,   0,   0,   0,   0,   0,   0,   0,   0,   0,\n",
       "         0,   0,   0,   0,   0,   0,   0,   0,   0,   0,   0,   0,   0,\n",
       "         0,   0,   0,   0,   0,   0,   0,   0,   0,   3,  18,  18,  18,\n",
       "       126, 136, 175,  26, 166, 255, 247, 127,   0,   0,   0,   0,   0,\n",
       "         0,   0,   0,   0,   0,   0,   0,  30,  36,  94, 154, 170, 253,\n",
       "       253, 253, 253, 253, 225, 172, 253, 242, 195,  64,   0,   0,   0,\n",
       "         0,   0,   0,   0,   0,   0,   0,   0,  49, 238, 253, 253, 253,\n",
       "       253, 253, 253, 253, 253, 251,  93,  82,  82,  56,  39,   0,   0,\n",
       "         0,   0,   0,   0,   0,   0,   0,   0,   0,   0,  18, 219, 253,\n",
       "       253, 253, 253, 253, 198, 182, 247, 241,   0,   0,   0,   0,   0,\n",
       "         0,   0,   0,   0,   0,   0,   0,   0,   0,   0,   0,   0,   0,\n",
       "        80, 156, 107, 253, 253, 205,  11,   0,  43, 154,   0,   0,   0,\n",
       "         0,   0,   0,   0,   0,   0,   0,   0,   0,   0,   0,   0,   0,\n",
       "         0,   0,   0,  14,   1, 154, 253,  90,   0,   0,   0,   0,   0,\n",
       "         0,   0,   0,   0,   0,   0,   0,   0,   0,   0,   0,   0,   0,\n",
       "         0,   0,   0,   0,   0,   0,   0, 139, 253, 190,   2,   0,   0,\n",
       "         0,   0,   0,   0,   0,   0,   0,   0,   0,   0,   0,   0,   0,\n",
       "         0,   0,   0,   0,   0,   0,   0,   0,   0,  11, 190, 253,  70,\n",
       "         0,   0,   0,   0,   0,   0,   0,   0,   0,   0,   0,   0,   0,\n",
       "         0,   0,   0,   0,   0,   0,   0,   0,   0,   0,   0,   0,  35,\n",
       "       241, 225, 160, 108,   1,   0,   0,   0,   0,   0,   0,   0,   0,\n",
       "         0,   0,   0,   0,   0,   0,   0,   0,   0,   0,   0,   0,   0,\n",
       "         0,   0,  81, 240, 253, 253, 119,  25,   0,   0,   0,   0,   0,\n",
       "         0,   0,   0,   0,   0,   0,   0,   0,   0,   0,   0,   0,   0,\n",
       "         0,   0,   0,   0,   0,  45, 186, 253, 253, 150,  27,   0,   0,\n",
       "         0,   0,   0,   0,   0,   0,   0,   0,   0,   0,   0,   0,   0,\n",
       "         0,   0,   0,   0,   0,   0,   0,   0,  16,  93, 252, 253, 187,\n",
       "         0,   0,   0,   0,   0,   0,   0,   0,   0,   0,   0,   0,   0,\n",
       "         0,   0,   0,   0,   0,   0,   0,   0,   0,   0,   0,   0, 249,\n",
       "       253, 249,  64,   0,   0,   0,   0,   0,   0,   0,   0,   0,   0,\n",
       "         0,   0,   0,   0,   0,   0,   0,   0,   0,   0,   0,  46, 130,\n",
       "       183, 253, 253, 207,   2,   0,   0,   0,   0,   0,   0,   0,   0,\n",
       "         0,   0,   0,   0,   0,   0,   0,   0,   0,   0,   0,  39, 148,\n",
       "       229, 253, 253, 253, 250, 182,   0,   0,   0,   0,   0,   0,   0,\n",
       "         0,   0,   0,   0,   0,   0,   0,   0,   0,   0,   0,  24, 114,\n",
       "       221, 253, 253, 253, 253, 201,  78,   0,   0,   0,   0,   0,   0,\n",
       "         0,   0,   0,   0,   0,   0,   0,   0,   0,   0,   0,  23,  66,\n",
       "       213, 253, 253, 253, 253, 198,  81,   2,   0,   0,   0,   0,   0,\n",
       "         0,   0,   0,   0,   0,   0,   0,   0,   0,   0,   0,  18, 171,\n",
       "       219, 253, 253, 253, 253, 195,  80,   9,   0,   0,   0,   0,   0,\n",
       "         0,   0,   0,   0,   0,   0,   0,   0,   0,   0,   0,  55, 172,\n",
       "       226, 253, 253, 253, 253, 244, 133,  11,   0,   0,   0,   0,   0,\n",
       "         0,   0,   0,   0,   0,   0,   0,   0,   0,   0,   0,   0,   0,\n",
       "       136, 253, 253, 253, 212, 135, 132,  16,   0,   0,   0,   0,   0,\n",
       "         0,   0,   0,   0,   0,   0,   0,   0,   0,   0,   0,   0,   0,\n",
       "         0,   0,   0,   0,   0,   0,   0,   0,   0,   0,   0,   0,   0,\n",
       "         0,   0,   0,   0,   0,   0,   0,   0,   0,   0,   0,   0,   0,\n",
       "         0,   0,   0,   0,   0,   0,   0,   0,   0,   0,   0,   0,   0,\n",
       "         0,   0,   0,   0,   0,   0,   0,   0,   0,   0,   0,   0,   0,\n",
       "         0,   0,   0,   0,   0,   0,   0,   0,   0,   0,   0,   0,   0,\n",
       "         0,   0,   0,   0,   0,   0,   0,   0,   0,   0,   0,   0,   0,\n",
       "         0,   0,   0,   0], dtype=uint8)"
      ]
     },
     "execution_count": 13,
     "metadata": {},
     "output_type": "execute_result"
    }
   ],
   "source": [
    "x_train[0]"
   ]
  },
  {
   "cell_type": "markdown",
   "id": "15548785-bd0d-4c6d-8695-fe0d2fddd606",
   "metadata": {},
   "source": [
    "### 正規化影像資料"
   ]
  },
  {
   "cell_type": "markdown",
   "id": "f6bcdca4-3652-485c-b107-71af7fc3b324",
   "metadata": {},
   "source": [
    "將整數值轉換為介於 0 和 1 的浮點值"
   ]
  },
  {
   "cell_type": "code",
   "execution_count": 14,
   "id": "6727d695-72cc-4a28-8d99-9a0b73a3ff7d",
   "metadata": {},
   "outputs": [],
   "source": [
    "x_train = x_train / 255\n",
    "x_valid = x_valid / 255 "
   ]
  },
  {
   "cell_type": "code",
   "execution_count": 15,
   "id": "f64934cb-e095-44d8-ae91-b1ef547ca3fc",
   "metadata": {},
   "outputs": [
    {
     "data": {
      "text/plain": [
       "dtype('float64')"
      ]
     },
     "execution_count": 15,
     "metadata": {},
     "output_type": "execute_result"
    }
   ],
   "source": [
    "x_train.dtype"
   ]
  },
  {
   "cell_type": "code",
   "execution_count": 16,
   "id": "51dfe5a7-e997-42fe-9d78-7db7aab6b95f",
   "metadata": {},
   "outputs": [
    {
     "data": {
      "text/plain": [
       "0.0"
      ]
     },
     "execution_count": 16,
     "metadata": {},
     "output_type": "execute_result"
    }
   ],
   "source": [
    "x_train.min()"
   ]
  },
  {
   "cell_type": "code",
   "execution_count": 17,
   "id": "e298fc51-e50b-4d3c-9556-cfdeb97786b0",
   "metadata": {},
   "outputs": [
    {
     "data": {
      "text/plain": [
       "1.0"
      ]
     },
     "execution_count": 17,
     "metadata": {},
     "output_type": "execute_result"
    }
   ],
   "source": [
    "x_train.max()"
   ]
  },
  {
   "cell_type": "markdown",
   "id": "b75c4068-9058-41f0-af51-67f18d6077c9",
   "metadata": {},
   "source": [
    "### 分類編碼"
   ]
  },
  {
   "cell_type": "markdown",
   "id": "549301a3-1d47-485e-b1ec-5b1f988cfcaf",
   "metadata": {},
   "source": [
    "舉例：\n",
    "|實際色彩| 是紅色嗎？| 是藍色嗎？| 是綠色嗎？|\n",
    "|------------|---------|----------|----------|\n",
    "|紅色|1|0|0|\n",
    "|綠色|0|0|1|\n",
    "|藍色|0|1|0|\n",
    "|綠色|0|0|1|\n",
    "\n",
    "也就是\n",
    "\n",
    "```python\n",
    "values = ['red, green, blue, green']\n",
    "```\n",
    "\n",
    "轉換為\n",
    "\n",
    "```python\n",
    "values = [\n",
    "    [1, 0, 0],\n",
    "    [0, 0, 1],\n",
    "    [0, 1, 0],\n",
    "    [0, 0, 1]\n",
    "]\n",
    "```"
   ]
  },
  {
   "cell_type": "code",
   "execution_count": 18,
   "id": "4b61b009-ca92-40c0-8dbc-16c43282284a",
   "metadata": {
    "tags": []
   },
   "outputs": [],
   "source": [
    "import tensorflow.keras as keras\n",
    "num_categories = 10\n",
    "\n",
    "y_train = keras.utils.to_categorical(y_train, num_categories)\n",
    "y_valid = keras.utils.to_categorical(y_valid, num_categories)"
   ]
  },
  {
   "cell_type": "code",
   "execution_count": 19,
   "id": "5d93ec74-45b6-4d8e-a81e-641929d2d295",
   "metadata": {},
   "outputs": [
    {
     "data": {
      "text/plain": [
       "array([[0., 0., 0., 0., 0., 1., 0., 0., 0., 0.],\n",
       "       [1., 0., 0., 0., 0., 0., 0., 0., 0., 0.],\n",
       "       [0., 0., 0., 0., 1., 0., 0., 0., 0., 0.],\n",
       "       [0., 1., 0., 0., 0., 0., 0., 0., 0., 0.],\n",
       "       [0., 0., 0., 0., 0., 0., 0., 0., 0., 1.],\n",
       "       [0., 0., 1., 0., 0., 0., 0., 0., 0., 0.],\n",
       "       [0., 1., 0., 0., 0., 0., 0., 0., 0., 0.],\n",
       "       [0., 0., 0., 1., 0., 0., 0., 0., 0., 0.],\n",
       "       [0., 1., 0., 0., 0., 0., 0., 0., 0., 0.]], dtype=float32)"
      ]
     },
     "execution_count": 19,
     "metadata": {},
     "output_type": "execute_result"
    }
   ],
   "source": [
    "y_train[0:9]"
   ]
  },
  {
   "cell_type": "markdown",
   "id": "ede65908-67d5-41ed-9c03-033c52d0c4f1",
   "metadata": {
    "tags": []
   },
   "source": [
    "## 建立模型"
   ]
  },
  {
   "cell_type": "markdown",
   "id": "2a5dc4bb-e0bd-438c-a3a5-790550c89ef5",
   "metadata": {},
   "source": [
    "1. 輸入層(Input Layer)，負責接收某種預期格式的資料\n",
    "2. 數個隱藏層(Hidden Layer)，各由多個神經元(NN)組成。每個神經元都會依權重(Weight)影響到網路的猜測，權重值會隨著網路獲得效能和學習的回饋而在多次迭代中更新。\n",
    "3. 輸出層(Output Layer)，負責呈現網路對特定影像的猜測"
   ]
  },
  {
   "cell_type": "markdown",
   "id": "775b9c36-ed90-400f-87ce-9754a5fb8625",
   "metadata": {},
   "source": [
    "### 具現化模型"
   ]
  },
  {
   "cell_type": "code",
   "execution_count": 20,
   "id": "00679886-8d94-42db-880d-20890cab764f",
   "metadata": {},
   "outputs": [],
   "source": [
    "from tensorflow.keras.models import Sequential\n",
    "\n",
    "model = Sequential()"
   ]
  },
  {
   "cell_type": "markdown",
   "id": "29af66de-169c-4c06-b61c-b92eddac6549",
   "metadata": {
    "tags": []
   },
   "source": [
    "### 建立輸入層\n",
    "+ 使用 Keras 的Dense，其中的每個神經元及其權重，都會影響下一層的每個神經元。\n",
    "+ 使用 `relu`激活函數(Activation Function)，使我們的network學會如何對資料進行更複雜的推測\n",
    "+ `input_shape`值會指定傳入資料的形狀\n",
    "+ `unit`引數(argument)為神經元數量\n",
    "\n",
    "> NN中Weight更新全中是如何運作的👉[何謂BP](https://medium.com/ai-academy-taiwan/back-propagation-3946e8ed8c55)"
   ]
  },
  {
   "cell_type": "code",
   "execution_count": 21,
   "id": "93b2d7d5-4690-4731-bdb0-74e7fe1282d2",
   "metadata": {},
   "outputs": [],
   "source": [
    "from tensorflow.keras.layers import Dense\n",
    "\n",
    "model.add(Dense(units=512, activation='relu', input_shape=(784,)))"
   ]
  },
  {
   "cell_type": "markdown",
   "id": "cbc319dd-e637-4d26-ac83-ba3eda43df0a",
   "metadata": {},
   "source": [
    "### 建立隱藏層"
   ]
  },
  {
   "cell_type": "code",
   "execution_count": 22,
   "id": "c0cf55f2-2116-424e-b4f0-d321400e669a",
   "metadata": {},
   "outputs": [],
   "source": [
    "model.add(Dense(units = 512, activation='relu'))"
   ]
  },
  {
   "cell_type": "markdown",
   "id": "18410a02-a929-4d04-a381-e9812529a1cc",
   "metadata": {},
   "source": [
    "### 建立輸出層\n",
    "+ 使用激活函數 `softmax`，這會使層中每一個值成為介於 0 和 1 的機率"
   ]
  },
  {
   "cell_type": "code",
   "execution_count": 23,
   "id": "d8fd414c-e9d6-406e-90ba-cfdc25f0fdb0",
   "metadata": {},
   "outputs": [],
   "source": [
    "model.add(Dense(units = 10, activation='softmax'))"
   ]
  },
  {
   "cell_type": "markdown",
   "id": "a89fe033-cbe9-4e82-8eea-04cf408e7c0d",
   "metadata": {},
   "source": [
    "### 總結模型\n",
    "模型的摘要"
   ]
  },
  {
   "cell_type": "code",
   "execution_count": 24,
   "id": "77e86553-f1b1-4fde-847f-3f51be6d6395",
   "metadata": {},
   "outputs": [
    {
     "name": "stdout",
     "output_type": "stream",
     "text": [
      "Model: \"sequential\"\n",
      "_________________________________________________________________\n",
      " Layer (type)                Output Shape              Param #   \n",
      "=================================================================\n",
      " dense (Dense)               (None, 512)               401920    \n",
      "                                                                 \n",
      " dense_1 (Dense)             (None, 512)               262656    \n",
      "                                                                 \n",
      " dense_2 (Dense)             (None, 10)                5130      \n",
      "                                                                 \n",
      "=================================================================\n",
      "Total params: 669,706\n",
      "Trainable params: 669,706\n",
      "Non-trainable params: 0\n",
      "_________________________________________________________________\n"
     ]
    }
   ],
   "source": [
    "model.summary()"
   ]
  },
  {
   "cell_type": "markdown",
   "id": "a6c4d2dd-49e0-4d85-8520-0b03513d86e7",
   "metadata": {},
   "source": [
    "> Hyperparameter, Parameter, Weight, Argument...?"
   ]
  },
  {
   "cell_type": "markdown",
   "id": "ab7c13ed-6506-4e23-a733-cd138e1d928f",
   "metadata": {},
   "source": [
    "### 編譯模型"
   ]
  },
  {
   "cell_type": "code",
   "execution_count": 25,
   "id": "d0a7890d-6bd2-491a-bc79-50dc65a0f92e",
   "metadata": {},
   "outputs": [],
   "source": [
    "model.compile(loss='categorical_crossentropy', metrics=['accuracy'])"
   ]
  },
  {
   "cell_type": "markdown",
   "id": "db2ce419-6716-4a25-ab65-a2bf0e5c523b",
   "metadata": {},
   "source": [
    "## 訓練模型"
   ]
  },
  {
   "cell_type": "code",
   "execution_count": 26,
   "id": "8b6bd1dd-f6e5-4415-a36e-a5712b96b368",
   "metadata": {},
   "outputs": [
    {
     "name": "stdout",
     "output_type": "stream",
     "text": [
      "Epoch 1/5\n",
      "1875/1875 [==============================] - 14s 7ms/step - loss: 0.1868 - accuracy: 0.9435 - val_loss: 0.0936 - val_accuracy: 0.9721\n",
      "Epoch 2/5\n",
      "1875/1875 [==============================] - 13s 7ms/step - loss: 0.0826 - accuracy: 0.9759 - val_loss: 0.1009 - val_accuracy: 0.9726\n",
      "Epoch 3/5\n",
      "1875/1875 [==============================] - 13s 7ms/step - loss: 0.0592 - accuracy: 0.9831 - val_loss: 0.1015 - val_accuracy: 0.9745\n",
      "Epoch 4/5\n",
      "1875/1875 [==============================] - 13s 7ms/step - loss: 0.0478 - accuracy: 0.9873 - val_loss: 0.0844 - val_accuracy: 0.9799\n",
      "Epoch 5/5\n",
      "1875/1875 [==============================] - 13s 7ms/step - loss: 0.0362 - accuracy: 0.9901 - val_loss: 0.0957 - val_accuracy: 0.9816\n"
     ]
    }
   ],
   "source": [
    "history = model.fit(\n",
    "    x_train, y_train, epochs=5, verbose=1, validation_data=(x_valid, y_valid)\n",
    ")"
   ]
  },
  {
   "cell_type": "markdown",
   "id": "c721138a-4fc1-4af4-bf57-bccaab9e013c",
   "metadata": {},
   "source": [
    "> fit model vs. tune model?"
   ]
  },
  {
   "cell_type": "markdown",
   "id": "f729b349-0c04-4c9f-bae3-cead57019b72",
   "metadata": {},
   "source": [
    "### 觀察準確度"
   ]
  },
  {
   "cell_type": "markdown",
   "id": "2a9a4953-d94b-4277-b56d-ea9bff25a638",
   "metadata": {},
   "source": [
    "+ 從 `accuracy`可以看出模型在這個 Epoch 對所有訓練資料的表現如何\n",
    "+ 從 `val_accuracy`可以看出模型在驗證資料上的表現"
   ]
  },
  {
   "cell_type": "markdown",
   "id": "7a3fd20f-f24a-4907-bd3d-a10c091c6749",
   "metadata": {},
   "source": [
    "## 清除記憶體"
   ]
  },
  {
   "cell_type": "code",
   "execution_count": null,
   "id": "6715913b-301b-487f-b051-65066f5178cf",
   "metadata": {},
   "outputs": [],
   "source": [
    "import IPython\n",
    "app = IPython.Application.instance()\n",
    "app.kernel.do_shutdown(True)"
   ]
  },
  {
   "cell_type": "markdown",
   "id": "f3b45fe2-0ec3-49e6-bc5b-342037b5cb9d",
   "metadata": {},
   "source": [
    "---"
   ]
  },
  {
   "cell_type": "markdown",
   "id": "c169d66e-9e8f-4421-a333-8dedb6a5140a",
   "metadata": {},
   "source": [
    "## Extra 小試身手"
   ]
  },
  {
   "cell_type": "code",
   "execution_count": 3,
   "id": "33b0bd2a-79f0-4794-ad2a-3f43d2efc23d",
   "metadata": {},
   "outputs": [
    {
     "data": {
      "image/png": "[encoded data removed]",
      "text/plain": [
       "<Figure size 432x288 with 1 Axes>"
      ]
     },
     "metadata": {
      "needs_background": "light"
     },
     "output_type": "display_data"
    },
    {
     "name": "stdout",
     "output_type": "stream",
     "text": [
      "Loss: 25.5\n"
     ]
    }
   ],
   "source": [
    "import numpy as np\n",
    "from numpy.polynomial.polynomial import polyfit\n",
    "import matplotlib.pyplot as plt\n",
    "\n",
    "m = 4  # -2 to start, change me please\n",
    "b = 19  # 40 to start, change me please\n",
    "\n",
    "# Sample data\n",
    "x = np.array([ 0,  1,  2,  3,  4,  5,  6,  7,  8,  9])\n",
    "y = np.array([10, 20, 25, 30, 40, 45, 40, 50, 60, 55])\n",
    "y_hat = x * m + b\n",
    "\n",
    "plt.plot(x, y, '.')\n",
    "plt.plot(x, y_hat, '-')\n",
    "plt.show()\n",
    "\n",
    "print(\"Loss:\", np.sum((y - y_hat)**2)/len(x))"
   ]
  },
  {
   "cell_type": "code",
   "execution_count": 28,
   "id": "62756380-3868-474b-a7f8-0026e2e65ff0",
   "metadata": {},
   "outputs": [
    {
     "data": {
      "text/plain": [
       "{'status': 'ok', 'restart': True}"
      ]
     },
     "execution_count": 28,
     "metadata": {},
     "output_type": "execute_result"
    }
   ],
   "source": [
    "import IPython\n",
    "app = IPython.Application.instance()\n",
    "app.kernel.do_shutdown(True)"
   ]
  }
 ],
 "metadata": {
  "kernelspec": {
   "display_name": "Python 3 (ipykernel)",
   "language": "python",
   "name": "python3"
  },
  "language_info": {
   "codemirror_mode": {
    "name": "ipython",
    "version": 3
   },
   "file_extension": ".py",
   "mimetype": "text/x-python",
   "name": "python",
   "nbconvert_exporter": "python",
   "pygments_lexer": "ipython3",
   "version": "3.10.5"
  },
  "toc-autonumbering": false,
  "toc-showcode": false,
  "toc-showmarkdowntxt": false,
  "toc-showtags": false
 },
 "nbformat": 4,
 "nbformat_minor": 5
}
